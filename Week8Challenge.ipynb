{
 "cells": [
  {
   "cell_type": "markdown",
   "id": "e1e913a7",
   "metadata": {},
   "source": [
    "#### Data In Motion\n",
    "#### Weekly Pandas Challenge Week #8\n"
   ]
  },
  {
   "cell_type": "markdown",
   "id": "f86fe0bf",
   "metadata": {},
   "source": [
    "Challenge Questions\n",
    "\n",
    "1. How many columns and rows are in the dataset?\n",
    "2. Is there any missing data?\n",
    "3. Display the summary statistics of the numeric columns using the describe method.\n",
    "4. Rename the following columns:\n",
    "        1 coaster_name ➡️ Coaster_Name\n",
    "        2 year_introduced ➡️ Year_Introduced\n",
    "        3 opening_date_clean ➡️ Opening_Date\n",
    "        4 speed_mph ➡️ Speed_mph\n",
    "        5 height_ft ➡️ Height_ft\n",
    "        6 Inversions_clean ➡️ Inversions\n",
    "        7 Gforce_clean ➡️ Gforce\n",
    "5. Are there any duplicated rows?\n",
    "6. What are the top 3 years with the most roller coasters introduced?\n",
    "7. What is the average speed? Also display a plot to show it's distribution.\n",
    "8. Explore the feature relationships. Are there any positively or negatively correlated relationships?\n",
    "9. Create your own question and answer it."
   ]
  },
  {
   "cell_type": "code",
   "execution_count": 99,
   "id": "861a91a2",
   "metadata": {},
   "outputs": [],
   "source": [
    "#Importing necessary libraries\n",
    "\n",
    "import pandas as pd\n",
    "import matplotlib.pyplot as plt\n",
    "%matplotlib inline\n",
    "import seaborn as sns"
   ]
  },
  {
   "cell_type": "code",
   "execution_count": 100,
   "id": "40b2e5d9",
   "metadata": {},
   "outputs": [],
   "source": [
    "#Loading data\n",
    "url = 'https://raw.githubusercontent.com/kedeisha1/Challenges/main/coaster_db.csv'\n",
    "\n",
    "df = pd.read_csv(url)"
   ]
  },
  {
   "cell_type": "code",
   "execution_count": 101,
   "id": "05f7819c",
   "metadata": {},
   "outputs": [
    {
     "data": {
      "text/html": [
       "<div>\n",
       "<style scoped>\n",
       "    .dataframe tbody tr th:only-of-type {\n",
       "        vertical-align: middle;\n",
       "    }\n",
       "\n",
       "    .dataframe tbody tr th {\n",
       "        vertical-align: top;\n",
       "    }\n",
       "\n",
       "    .dataframe thead th {\n",
       "        text-align: right;\n",
       "    }\n",
       "</style>\n",
       "<table border=\"1\" class=\"dataframe\">\n",
       "  <thead>\n",
       "    <tr style=\"text-align: right;\">\n",
       "      <th></th>\n",
       "      <th>coaster_name</th>\n",
       "      <th>Length</th>\n",
       "      <th>Speed</th>\n",
       "      <th>Location</th>\n",
       "      <th>Status</th>\n",
       "      <th>Opening date</th>\n",
       "      <th>Type</th>\n",
       "      <th>Manufacturer</th>\n",
       "      <th>Height restriction</th>\n",
       "      <th>Model</th>\n",
       "      <th>...</th>\n",
       "      <th>speed1</th>\n",
       "      <th>speed2</th>\n",
       "      <th>speed1_value</th>\n",
       "      <th>speed1_unit</th>\n",
       "      <th>speed_mph</th>\n",
       "      <th>height_value</th>\n",
       "      <th>height_unit</th>\n",
       "      <th>height_ft</th>\n",
       "      <th>Inversions_clean</th>\n",
       "      <th>Gforce_clean</th>\n",
       "    </tr>\n",
       "  </thead>\n",
       "  <tbody>\n",
       "    <tr>\n",
       "      <th>0</th>\n",
       "      <td>Switchback Railway</td>\n",
       "      <td>600 ft (180 m)</td>\n",
       "      <td>6 mph (9.7 km/h)</td>\n",
       "      <td>Coney Island</td>\n",
       "      <td>Removed</td>\n",
       "      <td>June 16, 1884</td>\n",
       "      <td>Wood</td>\n",
       "      <td>LaMarcus Adna Thompson</td>\n",
       "      <td>NaN</td>\n",
       "      <td>Lift Packed</td>\n",
       "      <td>...</td>\n",
       "      <td>6 mph</td>\n",
       "      <td>9.7 km/h</td>\n",
       "      <td>6.0</td>\n",
       "      <td>mph</td>\n",
       "      <td>6.0</td>\n",
       "      <td>50.0</td>\n",
       "      <td>ft</td>\n",
       "      <td>NaN</td>\n",
       "      <td>0</td>\n",
       "      <td>2.9</td>\n",
       "    </tr>\n",
       "    <tr>\n",
       "      <th>1</th>\n",
       "      <td>Flip Flap Railway</td>\n",
       "      <td>NaN</td>\n",
       "      <td>NaN</td>\n",
       "      <td>Sea Lion Park</td>\n",
       "      <td>Removed</td>\n",
       "      <td>1895</td>\n",
       "      <td>Wood</td>\n",
       "      <td>Lina Beecher</td>\n",
       "      <td>NaN</td>\n",
       "      <td>NaN</td>\n",
       "      <td>...</td>\n",
       "      <td>NaN</td>\n",
       "      <td>NaN</td>\n",
       "      <td>NaN</td>\n",
       "      <td>NaN</td>\n",
       "      <td>NaN</td>\n",
       "      <td>NaN</td>\n",
       "      <td>NaN</td>\n",
       "      <td>NaN</td>\n",
       "      <td>1</td>\n",
       "      <td>12.0</td>\n",
       "    </tr>\n",
       "    <tr>\n",
       "      <th>2</th>\n",
       "      <td>Switchback Railway (Euclid Beach Park)</td>\n",
       "      <td>NaN</td>\n",
       "      <td>NaN</td>\n",
       "      <td>Cleveland, Ohio, United States</td>\n",
       "      <td>Closed</td>\n",
       "      <td>NaN</td>\n",
       "      <td>Other</td>\n",
       "      <td>NaN</td>\n",
       "      <td>NaN</td>\n",
       "      <td>NaN</td>\n",
       "      <td>...</td>\n",
       "      <td>NaN</td>\n",
       "      <td>NaN</td>\n",
       "      <td>NaN</td>\n",
       "      <td>NaN</td>\n",
       "      <td>NaN</td>\n",
       "      <td>NaN</td>\n",
       "      <td>NaN</td>\n",
       "      <td>NaN</td>\n",
       "      <td>0</td>\n",
       "      <td>NaN</td>\n",
       "    </tr>\n",
       "    <tr>\n",
       "      <th>3</th>\n",
       "      <td>Loop the Loop (Coney Island)</td>\n",
       "      <td>NaN</td>\n",
       "      <td>NaN</td>\n",
       "      <td>Other</td>\n",
       "      <td>Removed</td>\n",
       "      <td>1901</td>\n",
       "      <td>Steel</td>\n",
       "      <td>Edwin Prescott</td>\n",
       "      <td>NaN</td>\n",
       "      <td>NaN</td>\n",
       "      <td>...</td>\n",
       "      <td>NaN</td>\n",
       "      <td>NaN</td>\n",
       "      <td>NaN</td>\n",
       "      <td>NaN</td>\n",
       "      <td>NaN</td>\n",
       "      <td>NaN</td>\n",
       "      <td>NaN</td>\n",
       "      <td>NaN</td>\n",
       "      <td>1</td>\n",
       "      <td>NaN</td>\n",
       "    </tr>\n",
       "    <tr>\n",
       "      <th>4</th>\n",
       "      <td>Loop the Loop (Young's Pier)</td>\n",
       "      <td>NaN</td>\n",
       "      <td>NaN</td>\n",
       "      <td>Other</td>\n",
       "      <td>Removed</td>\n",
       "      <td>1901</td>\n",
       "      <td>Steel</td>\n",
       "      <td>Edwin Prescott</td>\n",
       "      <td>NaN</td>\n",
       "      <td>NaN</td>\n",
       "      <td>...</td>\n",
       "      <td>NaN</td>\n",
       "      <td>NaN</td>\n",
       "      <td>NaN</td>\n",
       "      <td>NaN</td>\n",
       "      <td>NaN</td>\n",
       "      <td>NaN</td>\n",
       "      <td>NaN</td>\n",
       "      <td>NaN</td>\n",
       "      <td>1</td>\n",
       "      <td>NaN</td>\n",
       "    </tr>\n",
       "  </tbody>\n",
       "</table>\n",
       "<p>5 rows × 56 columns</p>\n",
       "</div>"
      ],
      "text/plain": [
       "                             coaster_name          Length             Speed  \\\n",
       "0                      Switchback Railway  600 ft (180 m)  6 mph (9.7 km/h)   \n",
       "1                       Flip Flap Railway             NaN               NaN   \n",
       "2  Switchback Railway (Euclid Beach Park)             NaN               NaN   \n",
       "3            Loop the Loop (Coney Island)             NaN               NaN   \n",
       "4            Loop the Loop (Young's Pier)             NaN               NaN   \n",
       "\n",
       "                         Location   Status   Opening date   Type  \\\n",
       "0                    Coney Island  Removed  June 16, 1884   Wood   \n",
       "1                   Sea Lion Park  Removed           1895   Wood   \n",
       "2  Cleveland, Ohio, United States   Closed            NaN  Other   \n",
       "3                           Other  Removed           1901  Steel   \n",
       "4                           Other  Removed           1901  Steel   \n",
       "\n",
       "             Manufacturer Height restriction        Model  ...  speed1  \\\n",
       "0  LaMarcus Adna Thompson                NaN  Lift Packed  ...  6 mph    \n",
       "1            Lina Beecher                NaN          NaN  ...     NaN   \n",
       "2                     NaN                NaN          NaN  ...     NaN   \n",
       "3          Edwin Prescott                NaN          NaN  ...     NaN   \n",
       "4          Edwin Prescott                NaN          NaN  ...     NaN   \n",
       "\n",
       "     speed2 speed1_value speed1_unit speed_mph height_value height_unit  \\\n",
       "0  9.7 km/h          6.0         mph       6.0         50.0          ft   \n",
       "1       NaN          NaN         NaN       NaN          NaN         NaN   \n",
       "2       NaN          NaN         NaN       NaN          NaN         NaN   \n",
       "3       NaN          NaN         NaN       NaN          NaN         NaN   \n",
       "4       NaN          NaN         NaN       NaN          NaN         NaN   \n",
       "\n",
       "  height_ft Inversions_clean Gforce_clean  \n",
       "0       NaN                0          2.9  \n",
       "1       NaN                1         12.0  \n",
       "2       NaN                0          NaN  \n",
       "3       NaN                1          NaN  \n",
       "4       NaN                1          NaN  \n",
       "\n",
       "[5 rows x 56 columns]"
      ]
     },
     "execution_count": 101,
     "metadata": {},
     "output_type": "execute_result"
    }
   ],
   "source": [
    "df.head()"
   ]
  },
  {
   "cell_type": "markdown",
   "id": "fceb877a",
   "metadata": {},
   "source": [
    "##### 1. How many columns and rows are in the dataset?"
   ]
  },
  {
   "cell_type": "code",
   "execution_count": 102,
   "id": "f02ad67c",
   "metadata": {},
   "outputs": [
    {
     "data": {
      "text/plain": [
       "(1087, 56)"
      ]
     },
     "execution_count": 102,
     "metadata": {},
     "output_type": "execute_result"
    }
   ],
   "source": [
    "df.shape"
   ]
  },
  {
   "cell_type": "code",
   "execution_count": 103,
   "id": "27e5f04f",
   "metadata": {},
   "outputs": [
    {
     "name": "stdout",
     "output_type": "stream",
     "text": [
      "There are 56 columns and 1087 rows in the dataset.\n"
     ]
    }
   ],
   "source": [
    "print('There are {} columns and {} rows in the dataset.'.format(df.shape[1],df.shape[0]))"
   ]
  },
  {
   "cell_type": "markdown",
   "id": "6e6197e5",
   "metadata": {},
   "source": [
    "##### 2. Is there any missing data?"
   ]
  },
  {
   "cell_type": "code",
   "execution_count": 13,
   "id": "4f09b07b",
   "metadata": {},
   "outputs": [
    {
     "data": {
      "text/plain": [
       "coaster_name                        0\n",
       "Length                            134\n",
       "Speed                             150\n",
       "Location                            0\n",
       "Status                            213\n",
       "Opening date                      250\n",
       "Type                                0\n",
       "Manufacturer                       59\n",
       "Height restriction                256\n",
       "Model                             343\n",
       "Height                            122\n",
       "Inversions                        155\n",
       "Lift/launch system                292\n",
       "Cost                              705\n",
       "Trains                            369\n",
       "Park section                      600\n",
       "Duration                          322\n",
       "Capacity                          512\n",
       "G-force                           725\n",
       "Designer                          509\n",
       "Max vertical angle                730\n",
       "Drop                              593\n",
       "Soft opening date                 991\n",
       "Fast Lane available              1018\n",
       "Replaced                          914\n",
       "Track layout                      752\n",
       "Fastrack available               1068\n",
       "Soft opening date.1               991\n",
       "Closing date                      851\n",
       "Opened                           1060\n",
       "Replaced by                       999\n",
       "Website                          1000\n",
       "Flash Pass Available             1037\n",
       "Must transfer from wheelchair     981\n",
       "Theme                            1043\n",
       "Single rider line available      1006\n",
       "Restraint Style                  1065\n",
       "Flash Pass available             1041\n",
       "Acceleration                     1027\n",
       "Restraints                       1063\n",
       "Name                             1052\n",
       "year_introduced                     0\n",
       "latitude                          275\n",
       "longitude                         275\n",
       "Type_Main                           0\n",
       "opening_date_clean                250\n",
       "speed1                            150\n",
       "speed2                            152\n",
       "speed1_value                      150\n",
       "speed1_unit                       150\n",
       "speed_mph                         150\n",
       "height_value                      122\n",
       "height_unit                       122\n",
       "height_ft                         916\n",
       "Inversions_clean                    0\n",
       "Gforce_clean                      725\n",
       "dtype: int64"
      ]
     },
     "execution_count": 13,
     "metadata": {},
     "output_type": "execute_result"
    }
   ],
   "source": [
    "df.isnull().sum()  #total number of missing data in each column in the dataset"
   ]
  },
  {
   "cell_type": "markdown",
   "id": "7103d5e7",
   "metadata": {},
   "source": [
    "##### 3. Display the summary statistics of the numeric columns using the describe method."
   ]
  },
  {
   "cell_type": "code",
   "execution_count": 104,
   "id": "3c4735b9",
   "metadata": {},
   "outputs": [
    {
     "data": {
      "text/html": [
       "<div>\n",
       "<style scoped>\n",
       "    .dataframe tbody tr th:only-of-type {\n",
       "        vertical-align: middle;\n",
       "    }\n",
       "\n",
       "    .dataframe tbody tr th {\n",
       "        vertical-align: top;\n",
       "    }\n",
       "\n",
       "    .dataframe thead th {\n",
       "        text-align: right;\n",
       "    }\n",
       "</style>\n",
       "<table border=\"1\" class=\"dataframe\">\n",
       "  <thead>\n",
       "    <tr style=\"text-align: right;\">\n",
       "      <th></th>\n",
       "      <th>Inversions</th>\n",
       "      <th>year_introduced</th>\n",
       "      <th>latitude</th>\n",
       "      <th>longitude</th>\n",
       "      <th>speed1_value</th>\n",
       "      <th>speed_mph</th>\n",
       "      <th>height_value</th>\n",
       "      <th>height_ft</th>\n",
       "      <th>Inversions_clean</th>\n",
       "      <th>Gforce_clean</th>\n",
       "    </tr>\n",
       "  </thead>\n",
       "  <tbody>\n",
       "    <tr>\n",
       "      <th>count</th>\n",
       "      <td>932.000000</td>\n",
       "      <td>1087.000000</td>\n",
       "      <td>812.000000</td>\n",
       "      <td>812.000000</td>\n",
       "      <td>937.000000</td>\n",
       "      <td>937.000000</td>\n",
       "      <td>965.000000</td>\n",
       "      <td>171.000000</td>\n",
       "      <td>1087.000000</td>\n",
       "      <td>362.000000</td>\n",
       "    </tr>\n",
       "    <tr>\n",
       "      <th>mean</th>\n",
       "      <td>1.547210</td>\n",
       "      <td>1994.986201</td>\n",
       "      <td>38.373484</td>\n",
       "      <td>-41.595373</td>\n",
       "      <td>53.850374</td>\n",
       "      <td>48.617289</td>\n",
       "      <td>89.575171</td>\n",
       "      <td>101.996491</td>\n",
       "      <td>1.326587</td>\n",
       "      <td>3.824006</td>\n",
       "    </tr>\n",
       "    <tr>\n",
       "      <th>std</th>\n",
       "      <td>2.114073</td>\n",
       "      <td>23.475248</td>\n",
       "      <td>15.516596</td>\n",
       "      <td>72.285227</td>\n",
       "      <td>23.385518</td>\n",
       "      <td>16.678031</td>\n",
       "      <td>136.246444</td>\n",
       "      <td>67.329092</td>\n",
       "      <td>2.030854</td>\n",
       "      <td>0.989998</td>\n",
       "    </tr>\n",
       "    <tr>\n",
       "      <th>min</th>\n",
       "      <td>0.000000</td>\n",
       "      <td>1884.000000</td>\n",
       "      <td>-48.261700</td>\n",
       "      <td>-123.035700</td>\n",
       "      <td>5.000000</td>\n",
       "      <td>5.000000</td>\n",
       "      <td>4.000000</td>\n",
       "      <td>13.100000</td>\n",
       "      <td>0.000000</td>\n",
       "      <td>0.800000</td>\n",
       "    </tr>\n",
       "    <tr>\n",
       "      <th>25%</th>\n",
       "      <td>0.000000</td>\n",
       "      <td>1989.000000</td>\n",
       "      <td>35.031050</td>\n",
       "      <td>-84.552200</td>\n",
       "      <td>40.000000</td>\n",
       "      <td>37.300000</td>\n",
       "      <td>44.000000</td>\n",
       "      <td>51.800000</td>\n",
       "      <td>0.000000</td>\n",
       "      <td>3.400000</td>\n",
       "    </tr>\n",
       "    <tr>\n",
       "      <th>50%</th>\n",
       "      <td>0.000000</td>\n",
       "      <td>2000.000000</td>\n",
       "      <td>40.289800</td>\n",
       "      <td>-76.653600</td>\n",
       "      <td>50.000000</td>\n",
       "      <td>49.700000</td>\n",
       "      <td>79.000000</td>\n",
       "      <td>91.200000</td>\n",
       "      <td>0.000000</td>\n",
       "      <td>4.000000</td>\n",
       "    </tr>\n",
       "    <tr>\n",
       "      <th>75%</th>\n",
       "      <td>3.000000</td>\n",
       "      <td>2010.000000</td>\n",
       "      <td>44.799600</td>\n",
       "      <td>2.778100</td>\n",
       "      <td>63.000000</td>\n",
       "      <td>58.000000</td>\n",
       "      <td>113.000000</td>\n",
       "      <td>131.200000</td>\n",
       "      <td>2.000000</td>\n",
       "      <td>4.500000</td>\n",
       "    </tr>\n",
       "    <tr>\n",
       "      <th>max</th>\n",
       "      <td>14.000000</td>\n",
       "      <td>2022.000000</td>\n",
       "      <td>63.230900</td>\n",
       "      <td>153.426500</td>\n",
       "      <td>240.000000</td>\n",
       "      <td>149.100000</td>\n",
       "      <td>3937.000000</td>\n",
       "      <td>377.300000</td>\n",
       "      <td>14.000000</td>\n",
       "      <td>12.000000</td>\n",
       "    </tr>\n",
       "  </tbody>\n",
       "</table>\n",
       "</div>"
      ],
      "text/plain": [
       "       Inversions  year_introduced    latitude   longitude  speed1_value  \\\n",
       "count  932.000000      1087.000000  812.000000  812.000000    937.000000   \n",
       "mean     1.547210      1994.986201   38.373484  -41.595373     53.850374   \n",
       "std      2.114073        23.475248   15.516596   72.285227     23.385518   \n",
       "min      0.000000      1884.000000  -48.261700 -123.035700      5.000000   \n",
       "25%      0.000000      1989.000000   35.031050  -84.552200     40.000000   \n",
       "50%      0.000000      2000.000000   40.289800  -76.653600     50.000000   \n",
       "75%      3.000000      2010.000000   44.799600    2.778100     63.000000   \n",
       "max     14.000000      2022.000000   63.230900  153.426500    240.000000   \n",
       "\n",
       "        speed_mph  height_value   height_ft  Inversions_clean  Gforce_clean  \n",
       "count  937.000000    965.000000  171.000000       1087.000000    362.000000  \n",
       "mean    48.617289     89.575171  101.996491          1.326587      3.824006  \n",
       "std     16.678031    136.246444   67.329092          2.030854      0.989998  \n",
       "min      5.000000      4.000000   13.100000          0.000000      0.800000  \n",
       "25%     37.300000     44.000000   51.800000          0.000000      3.400000  \n",
       "50%     49.700000     79.000000   91.200000          0.000000      4.000000  \n",
       "75%     58.000000    113.000000  131.200000          2.000000      4.500000  \n",
       "max    149.100000   3937.000000  377.300000         14.000000     12.000000  "
      ]
     },
     "execution_count": 104,
     "metadata": {},
     "output_type": "execute_result"
    }
   ],
   "source": [
    "df.select_dtypes('number').describe() #summary statistics of the numeric columns"
   ]
  },
  {
   "cell_type": "markdown",
   "id": "a47a033b",
   "metadata": {},
   "source": [
    "##### 4. Rename the following columns:\n",
    "        1 coaster_name ➡️ Coaster_Name\n",
    "        2 year_introduced ➡️ Year_Introduced\n",
    "        3 opening_date_clean ➡️ Opening_Date\n",
    "        4 speed_mph ➡️ Speed_mph\n",
    "        5 height_ft ➡️ Height_ft\n",
    "        6 Inversions_clean ➡️ Inversions\n",
    "        7 Gforce_clean ➡️ Gforce"
   ]
  },
  {
   "cell_type": "code",
   "execution_count": 105,
   "id": "e20c58b8",
   "metadata": {},
   "outputs": [],
   "source": [
    "df.rename(columns = {'coaster_name':'Coaster_Name', 'year_introduced':'Year_Introduced','opening_date_clean':'Opening_Date',\n",
    "                     'speed_mph':'Speed_mph','height_ft':'Height_ft','Inversions_clean':'Inversions', \n",
    "                     'Gforce_clean':'Gforce'}, inplace = True)"
   ]
  },
  {
   "cell_type": "code",
   "execution_count": 106,
   "id": "7e2610bc",
   "metadata": {},
   "outputs": [
    {
     "data": {
      "text/plain": [
       "Index(['Coaster_Name', 'Length', 'Speed', 'Location', 'Status', 'Opening date',\n",
       "       'Type', 'Manufacturer', 'Height restriction', 'Model', 'Height',\n",
       "       'Inversions', 'Lift/launch system', 'Cost', 'Trains', 'Park section',\n",
       "       'Duration', 'Capacity', 'G-force', 'Designer', 'Max vertical angle',\n",
       "       'Drop', 'Soft opening date', 'Fast Lane available', 'Replaced',\n",
       "       'Track layout', 'Fastrack available', 'Soft opening date.1',\n",
       "       'Closing date', 'Opened', 'Replaced by', 'Website',\n",
       "       'Flash Pass Available', 'Must transfer from wheelchair', 'Theme',\n",
       "       'Single rider line available', 'Restraint Style',\n",
       "       'Flash Pass available', 'Acceleration', 'Restraints', 'Name',\n",
       "       'Year_Introduced', 'latitude', 'longitude', 'Type_Main', 'Opening_Date',\n",
       "       'speed1', 'speed2', 'speed1_value', 'speed1_unit', 'Speed_mph',\n",
       "       'height_value', 'height_unit', 'Height_ft', 'Inversions', 'Gforce'],\n",
       "      dtype='object')"
      ]
     },
     "execution_count": 106,
     "metadata": {},
     "output_type": "execute_result"
    }
   ],
   "source": [
    "df.columns    #renamed columns"
   ]
  },
  {
   "cell_type": "markdown",
   "id": "403b785c",
   "metadata": {},
   "source": [
    "##### 5. Are there any duplicated rows?"
   ]
  },
  {
   "cell_type": "code",
   "execution_count": 107,
   "id": "87fa8bc3",
   "metadata": {},
   "outputs": [
    {
     "data": {
      "text/plain": [
       "0"
      ]
     },
     "execution_count": 107,
     "metadata": {},
     "output_type": "execute_result"
    }
   ],
   "source": [
    "df.duplicated().sum()  #There are no duplicate rows in the dataset"
   ]
  },
  {
   "cell_type": "markdown",
   "id": "bbe263d5",
   "metadata": {},
   "source": [
    "##### 6. What are the top 3 years with the most roller coasters introduced?"
   ]
  },
  {
   "cell_type": "code",
   "execution_count": 108,
   "id": "09415263",
   "metadata": {},
   "outputs": [
    {
     "data": {
      "text/plain": [
       "1999    49\n",
       "2000    47\n",
       "1998    32\n",
       "Name: Year_Introduced, dtype: int64"
      ]
     },
     "execution_count": 108,
     "metadata": {},
     "output_type": "execute_result"
    }
   ],
   "source": [
    "df['Year_Introduced'].value_counts().head(3)  #top 3 years"
   ]
  },
  {
   "cell_type": "markdown",
   "id": "78fcfc80",
   "metadata": {},
   "source": [
    "##### 7. What is the average speed? Also display a plot to show it's distribution."
   ]
  },
  {
   "cell_type": "code",
   "execution_count": 109,
   "id": "a2b7bc7a",
   "metadata": {},
   "outputs": [
    {
     "name": "stdout",
     "output_type": "stream",
     "text": [
      "The average speed is: 53.85 mph\n"
     ]
    }
   ],
   "source": [
    "avg = df['speed1_value'].mean()\n",
    "\n",
    "print('The average speed is: {} mph'.format(round(avg,2)))"
   ]
  },
  {
   "cell_type": "code",
   "execution_count": 110,
   "id": "4a5e088e",
   "metadata": {},
   "outputs": [
    {
     "data": {
      "text/plain": [
       "<matplotlib.legend.Legend at 0x24beb0b4790>"
      ]
     },
     "execution_count": 110,
     "metadata": {},
     "output_type": "execute_result"
    },
    {
     "data": {
      "image/png": "[encoded data removed]",
      "text/plain": [
       "<Figure size 640x480 with 1 Axes>"
      ]
     },
     "metadata": {},
     "output_type": "display_data"
    }
   ],
   "source": [
    "df['speed1_value'].plot(kind='kde', title='Speed Distribution Plot')\n",
    "plt.legend(['Speed'])"
   ]
  },
  {
   "cell_type": "markdown",
   "id": "38c38eed",
   "metadata": {},
   "source": [
    "##### 8. Explore the feature relationships. Are there any positively or negatively correlated relationships?"
   ]
  },
  {
   "cell_type": "code",
   "execution_count": 111,
   "id": "46490d5a",
   "metadata": {},
   "outputs": [
    {
     "data": {
      "text/html": [
       "<div>\n",
       "<style scoped>\n",
       "    .dataframe tbody tr th:only-of-type {\n",
       "        vertical-align: middle;\n",
       "    }\n",
       "\n",
       "    .dataframe tbody tr th {\n",
       "        vertical-align: top;\n",
       "    }\n",
       "\n",
       "    .dataframe thead th {\n",
       "        text-align: right;\n",
       "    }\n",
       "</style>\n",
       "<table border=\"1\" class=\"dataframe\">\n",
       "  <thead>\n",
       "    <tr style=\"text-align: right;\">\n",
       "      <th></th>\n",
       "      <th>Inversions</th>\n",
       "      <th>Year_Introduced</th>\n",
       "      <th>latitude</th>\n",
       "      <th>longitude</th>\n",
       "      <th>speed1_value</th>\n",
       "      <th>Speed_mph</th>\n",
       "      <th>height_value</th>\n",
       "      <th>Height_ft</th>\n",
       "      <th>Inversions</th>\n",
       "      <th>Gforce</th>\n",
       "    </tr>\n",
       "  </thead>\n",
       "  <tbody>\n",
       "    <tr>\n",
       "      <th>Inversions</th>\n",
       "      <td>1.000000</td>\n",
       "      <td>0.211003</td>\n",
       "      <td>-0.009815</td>\n",
       "      <td>0.061589</td>\n",
       "      <td>0.163419</td>\n",
       "      <td>0.252209</td>\n",
       "      <td>0.094811</td>\n",
       "      <td>0.171330</td>\n",
       "      <td>1.000000</td>\n",
       "      <td>0.356865</td>\n",
       "    </tr>\n",
       "    <tr>\n",
       "      <th>Year_Introduced</th>\n",
       "      <td>0.211003</td>\n",
       "      <td>1.000000</td>\n",
       "      <td>-0.070982</td>\n",
       "      <td>0.175913</td>\n",
       "      <td>0.210191</td>\n",
       "      <td>0.204853</td>\n",
       "      <td>0.087687</td>\n",
       "      <td>0.232150</td>\n",
       "      <td>0.228758</td>\n",
       "      <td>-0.066657</td>\n",
       "    </tr>\n",
       "    <tr>\n",
       "      <th>latitude</th>\n",
       "      <td>-0.009815</td>\n",
       "      <td>-0.070982</td>\n",
       "      <td>1.000000</td>\n",
       "      <td>-0.298488</td>\n",
       "      <td>-0.121847</td>\n",
       "      <td>-0.063757</td>\n",
       "      <td>-0.004265</td>\n",
       "      <td>0.011492</td>\n",
       "      <td>-0.014043</td>\n",
       "      <td>0.042871</td>\n",
       "    </tr>\n",
       "    <tr>\n",
       "      <th>longitude</th>\n",
       "      <td>0.061589</td>\n",
       "      <td>0.175913</td>\n",
       "      <td>-0.298488</td>\n",
       "      <td>1.000000</td>\n",
       "      <td>0.301179</td>\n",
       "      <td>0.051063</td>\n",
       "      <td>-0.092764</td>\n",
       "      <td>0.159733</td>\n",
       "      <td>0.087160</td>\n",
       "      <td>0.016485</td>\n",
       "    </tr>\n",
       "    <tr>\n",
       "      <th>speed1_value</th>\n",
       "      <td>0.163419</td>\n",
       "      <td>0.210191</td>\n",
       "      <td>-0.121847</td>\n",
       "      <td>0.301179</td>\n",
       "      <td>1.000000</td>\n",
       "      <td>0.851667</td>\n",
       "      <td>0.088761</td>\n",
       "      <td>0.815103</td>\n",
       "      <td>0.176105</td>\n",
       "      <td>0.379962</td>\n",
       "    </tr>\n",
       "    <tr>\n",
       "      <th>Speed_mph</th>\n",
       "      <td>0.252209</td>\n",
       "      <td>0.204853</td>\n",
       "      <td>-0.063757</td>\n",
       "      <td>0.051063</td>\n",
       "      <td>0.851667</td>\n",
       "      <td>1.000000</td>\n",
       "      <td>0.241461</td>\n",
       "      <td>0.829404</td>\n",
       "      <td>0.265763</td>\n",
       "      <td>0.489337</td>\n",
       "    </tr>\n",
       "    <tr>\n",
       "      <th>height_value</th>\n",
       "      <td>0.094811</td>\n",
       "      <td>0.087687</td>\n",
       "      <td>-0.004265</td>\n",
       "      <td>-0.092764</td>\n",
       "      <td>0.088761</td>\n",
       "      <td>0.241461</td>\n",
       "      <td>1.000000</td>\n",
       "      <td>1.000000</td>\n",
       "      <td>0.108199</td>\n",
       "      <td>0.337386</td>\n",
       "    </tr>\n",
       "    <tr>\n",
       "      <th>Height_ft</th>\n",
       "      <td>0.171330</td>\n",
       "      <td>0.232150</td>\n",
       "      <td>0.011492</td>\n",
       "      <td>0.159733</td>\n",
       "      <td>0.815103</td>\n",
       "      <td>0.829404</td>\n",
       "      <td>1.000000</td>\n",
       "      <td>1.000000</td>\n",
       "      <td>0.164246</td>\n",
       "      <td>0.475020</td>\n",
       "    </tr>\n",
       "    <tr>\n",
       "      <th>Inversions</th>\n",
       "      <td>1.000000</td>\n",
       "      <td>0.228758</td>\n",
       "      <td>-0.014043</td>\n",
       "      <td>0.087160</td>\n",
       "      <td>0.176105</td>\n",
       "      <td>0.265763</td>\n",
       "      <td>0.108199</td>\n",
       "      <td>0.164246</td>\n",
       "      <td>1.000000</td>\n",
       "      <td>0.345106</td>\n",
       "    </tr>\n",
       "    <tr>\n",
       "      <th>Gforce</th>\n",
       "      <td>0.356865</td>\n",
       "      <td>-0.066657</td>\n",
       "      <td>0.042871</td>\n",
       "      <td>0.016485</td>\n",
       "      <td>0.379962</td>\n",
       "      <td>0.489337</td>\n",
       "      <td>0.337386</td>\n",
       "      <td>0.475020</td>\n",
       "      <td>0.345106</td>\n",
       "      <td>1.000000</td>\n",
       "    </tr>\n",
       "  </tbody>\n",
       "</table>\n",
       "</div>"
      ],
      "text/plain": [
       "                 Inversions  Year_Introduced  latitude  longitude  \\\n",
       "Inversions         1.000000         0.211003 -0.009815   0.061589   \n",
       "Year_Introduced    0.211003         1.000000 -0.070982   0.175913   \n",
       "latitude          -0.009815        -0.070982  1.000000  -0.298488   \n",
       "longitude          0.061589         0.175913 -0.298488   1.000000   \n",
       "speed1_value       0.163419         0.210191 -0.121847   0.301179   \n",
       "Speed_mph          0.252209         0.204853 -0.063757   0.051063   \n",
       "height_value       0.094811         0.087687 -0.004265  -0.092764   \n",
       "Height_ft          0.171330         0.232150  0.011492   0.159733   \n",
       "Inversions         1.000000         0.228758 -0.014043   0.087160   \n",
       "Gforce             0.356865        -0.066657  0.042871   0.016485   \n",
       "\n",
       "                 speed1_value  Speed_mph  height_value  Height_ft  Inversions  \\\n",
       "Inversions           0.163419   0.252209      0.094811   0.171330    1.000000   \n",
       "Year_Introduced      0.210191   0.204853      0.087687   0.232150    0.228758   \n",
       "latitude            -0.121847  -0.063757     -0.004265   0.011492   -0.014043   \n",
       "longitude            0.301179   0.051063     -0.092764   0.159733    0.087160   \n",
       "speed1_value         1.000000   0.851667      0.088761   0.815103    0.176105   \n",
       "Speed_mph            0.851667   1.000000      0.241461   0.829404    0.265763   \n",
       "height_value         0.088761   0.241461      1.000000   1.000000    0.108199   \n",
       "Height_ft            0.815103   0.829404      1.000000   1.000000    0.164246   \n",
       "Inversions           0.176105   0.265763      0.108199   0.164246    1.000000   \n",
       "Gforce               0.379962   0.489337      0.337386   0.475020    0.345106   \n",
       "\n",
       "                   Gforce  \n",
       "Inversions       0.356865  \n",
       "Year_Introduced -0.066657  \n",
       "latitude         0.042871  \n",
       "longitude        0.016485  \n",
       "speed1_value     0.379962  \n",
       "Speed_mph        0.489337  \n",
       "height_value     0.337386  \n",
       "Height_ft        0.475020  \n",
       "Inversions       0.345106  \n",
       "Gforce           1.000000  "
      ]
     },
     "execution_count": 111,
     "metadata": {},
     "output_type": "execute_result"
    }
   ],
   "source": [
    "df.corr()"
   ]
  },
  {
   "cell_type": "code",
   "execution_count": 112,
   "id": "27e5ab03",
   "metadata": {},
   "outputs": [
    {
     "data": {
      "text/plain": [
       "<AxesSubplot:>"
      ]
     },
     "execution_count": 112,
     "metadata": {},
     "output_type": "execute_result"
    },
    {
     "data": {
      "image/png": "[encoded data removed]",
      "text/plain": [
       "<Figure size 1200x700 with 2 Axes>"
      ]
     },
     "metadata": {},
     "output_type": "display_data"
    }
   ],
   "source": [
    "#visulizing correlation using Heatmap\n",
    "\n",
    "plt.figure(figsize=(12,7))\n",
    "sns.heatmap(df.corr(),cmap='bwr',annot=True)"
   ]
  },
  {
   "cell_type": "markdown",
   "id": "169ce769",
   "metadata": {},
   "source": [
    "Submitted by:\n",
    "\n",
    "Archana Kokate"
   ]
  },
  {
   "cell_type": "code",
   "execution_count": null,
   "id": "ed74767d",
   "metadata": {},
   "outputs": [],
   "source": []
  }
 ],
 "metadata": {
  "kernelspec": {
   "display_name": "Python 3 (ipykernel)",
   "language": "python",
   "name": "python3"
  },
  "language_info": {
   "codemirror_mode": {
    "name": "ipython",
    "version": 3
   },
   "file_extension": ".py",
   "mimetype": "text/x-python",
   "name": "python",
   "nbconvert_exporter": "python",
   "pygments_lexer": "ipython3",
   "version": "3.9.13"
  }
 },
 "nbformat": 4,
 "nbformat_minor": 5
}
